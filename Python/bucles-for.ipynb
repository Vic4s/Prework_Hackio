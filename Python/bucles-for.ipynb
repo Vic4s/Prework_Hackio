{
 "cells": [
  {
   "cell_type": "markdown",
   "metadata": {},
   "source": [
    "<div style=\"text-align: center;\">\n",
    "  <img src=\"https://github.com/Hack-io-Data/Imagenes/blob/main/01-LogosHackio/logo_celeste@4x.png?raw=true\" alt=\"logo hack(io)\" />\n",
    "</div>"
   ]
  },
  {
   "cell_type": "markdown",
   "metadata": {},
   "source": [
    "####  1. Genera una lista de números del 0 al 4 y luego imprime cada número en la lista usando un `bucle for`. "
   ]
  },
  {
   "cell_type": "code",
   "execution_count": 1,
   "metadata": {},
   "outputs": [
    {
     "name": "stdout",
     "output_type": "stream",
     "text": [
      "1\n",
      "2\n",
      "3\n",
      "4\n"
     ]
    }
   ],
   "source": [
    "numeros = [1,2,3,4]\n",
    "\n",
    "for numero in numeros:\n",
    "    print(numero)"
   ]
  },
  {
   "cell_type": "markdown",
   "metadata": {},
   "source": [
    "#### 2. Itera sobre una lista de frutas y muestra cada fruta en mayúsculas. \n"
   ]
  },
  {
   "cell_type": "code",
   "execution_count": 2,
   "metadata": {},
   "outputs": [
    {
     "name": "stdout",
     "output_type": "stream",
     "text": [
      "MANZANA\n",
      "BANANA\n",
      "CEREZA\n"
     ]
    }
   ],
   "source": [
    "frutas = [\"manzana\", \"banana\", \"cereza\"]\n",
    "\n",
    "for fruta in frutas:\n",
    "    print(fruta.upper())"
   ]
  },
  {
   "cell_type": "markdown",
   "metadata": {},
   "source": [
    "####  3. Genera un bucle while que imprima los números del 0 al 4. \n"
   ]
  },
  {
   "cell_type": "code",
   "execution_count": 3,
   "metadata": {},
   "outputs": [
    {
     "name": "stdout",
     "output_type": "stream",
     "text": [
      "0\n",
      "1\n",
      "2\n",
      "3\n",
      "4\n"
     ]
    }
   ],
   "source": [
    "num = 0\n",
    "print(num)\n",
    "\n",
    "while num <4:\n",
    "    num += 1\n",
    "    print(num)\n"
   ]
  },
  {
   "cell_type": "markdown",
   "metadata": {},
   "source": [
    "#### 4. Genera un bucle del 0 al 9, pero que se detenga en el 5.\n"
   ]
  },
  {
   "cell_type": "code",
   "execution_count": 4,
   "metadata": {},
   "outputs": [
    {
     "name": "stdout",
     "output_type": "stream",
     "text": [
      "0\n",
      "1\n",
      "2\n",
      "3\n",
      "4\n"
     ]
    }
   ],
   "source": [
    "for i in range(0,5):\n",
    "    print(i)"
   ]
  },
  {
   "cell_type": "markdown",
   "metadata": {},
   "source": [
    "#### 5. Recorre los números del 0 al 9 e imprime solo los números impares."
   ]
  },
  {
   "cell_type": "code",
   "execution_count": 5,
   "metadata": {},
   "outputs": [
    {
     "name": "stdout",
     "output_type": "stream",
     "text": [
      "[1, 3, 5, 7, 9]\n"
     ]
    }
   ],
   "source": [
    "pares = [num_par for num_par in range(1,10,2)]\n",
    "print(pares)"
   ]
  },
  {
   "cell_type": "markdown",
   "metadata": {},
   "source": [
    "#### 6. Dada la lista `[10, 20, 30, 40, 50]`, calcula la suma de todos los elementos usando un bucle `for`."
   ]
  },
  {
   "cell_type": "code",
   "execution_count": 6,
   "metadata": {},
   "outputs": [
    {
     "name": "stdout",
     "output_type": "stream",
     "text": [
      "150\n"
     ]
    }
   ],
   "source": [
    "numeros2 = [10,20,30,40,50]\n",
    "suma = 0\n",
    "for numero in numeros2:\n",
    "    suma += numero\n",
    "    \n",
    "print(suma)"
   ]
  },
  {
   "cell_type": "markdown",
   "metadata": {},
   "source": [
    "#### 7. Dada la cadena `\"Hola mundo\"`, cuenta cuántas veces aparecen las vocales (`a`, `e`, `i`, `o`, `u`) usando un bucle `for`.\n"
   ]
  },
  {
   "cell_type": "code",
   "execution_count": 7,
   "metadata": {},
   "outputs": [
    {
     "name": "stdout",
     "output_type": "stream",
     "text": [
      "El número de vocales es: 4\n"
     ]
    }
   ],
   "source": [
    "hola = \"Hola mundo\"\n",
    "vocales = \"aeiou\"\n",
    "contador = 0\n",
    "\n",
    "for letra in hola.lower():  \n",
    "    if letra in vocales:  \n",
    "        contador += 1\n",
    "\n",
    "print(f\"El número de vocales es: {contador}\")\n"
   ]
  },
  {
   "cell_type": "markdown",
   "metadata": {},
   "source": [
    "#### 8. Dada la cadena `\"Python\"`, usa un bucle `for` para imprimir los caracteres en orden inverso (`n`, `o`, `h`, `t`, `y`, `P`).\n"
   ]
  },
  {
   "cell_type": "code",
   "execution_count": 8,
   "metadata": {},
   "outputs": [
    {
     "name": "stdout",
     "output_type": "stream",
     "text": [
      "nohtyP\n"
     ]
    }
   ],
   "source": [
    "py = \"Python\"\n",
    "\n",
    "py_inverso = list(py)\n",
    "py_inverso.reverse()\n",
    "\n",
    "result = \"\"\n",
    "\n",
    "for letra in py_inverso:\n",
    "    result += letra\n",
    "\n",
    "#for letra in py[::-1]: \n",
    "#    py_inverso += letra\n",
    "\n",
    "print(result)\n",
    "\n"
   ]
  },
  {
   "cell_type": "markdown",
   "metadata": {},
   "source": [
    "#### 9. Dada la lista `[1, 2, 3, 4, 5]`, multiplica todos sus elementos usando un bucle `for` y almacena los resultados en una lista nueva. \n"
   ]
  },
  {
   "cell_type": "code",
   "execution_count": 9,
   "metadata": {},
   "outputs": [
    {
     "name": "stdout",
     "output_type": "stream",
     "text": [
      "[1, 4, 9, 16, 25]\n"
     ]
    }
   ],
   "source": [
    "lista = [1,2,3,4,5]\n",
    "\n",
    "lista_nueva = [num*num for num in lista]\n",
    "\n",
    "print(lista_nueva)"
   ]
  },
  {
   "cell_type": "markdown",
   "metadata": {},
   "source": [
    "#### 10. Dada la lista `[1, 2, 3, 4, 5, 6, 7, 8, 9, 10]`, utiliza un bucle `for` para contar cuántos números son pares y cuántos son impares."
   ]
  },
  {
   "cell_type": "code",
   "execution_count": 26,
   "metadata": {},
   "outputs": [
    {
     "name": "stdout",
     "output_type": "stream",
     "text": [
      "Números pares: 5\n",
      "Números impares: 5\n"
     ]
    }
   ],
   "source": [
    "lista = [1, 2, 3, 4, 5, 6, 7, 8, 9, 10]\n",
    "\n",
    "pares = len([n for n in lista if n % 2 == 0])\n",
    "impares = len(lista) - pares\n",
    "\n",
    "print(f\"Números pares: {pares}\")\n",
    "print(f\"Números impares: {impares}\")\n"
   ]
  },
  {
   "cell_type": "markdown",
   "metadata": {},
   "source": [
    "#### 11. Escribe un programa que solicite al usuario un número entero positivo (`n`) y calcule la suma de todos los números primos menores o iguales a `n`. Utiliza un bucle `for` para iterar sobre cada número y verifica si es primo."
   ]
  },
  {
   "cell_type": "code",
   "execution_count": 55,
   "metadata": {},
   "outputs": [
    {
     "name": "stdout",
     "output_type": "stream",
     "text": [
      "2 es primo\n",
      "3 es primo\n",
      "4 no es primo, es divisible por 2\n",
      "5 es primo\n",
      "6 no es primo, es divisible por 2\n",
      "6 no es primo, es divisible por 3\n",
      "7 es primo\n",
      "8 no es primo, es divisible por 2\n",
      "8 no es primo, es divisible por 4\n",
      "9 no es primo, es divisible por 3\n",
      "10 no es primo, es divisible por 2\n",
      "10 no es primo, es divisible por 5\n",
      "11 es primo\n",
      "12 no es primo, es divisible por 2\n",
      "12 no es primo, es divisible por 3\n",
      "12 no es primo, es divisible por 4\n",
      "12 no es primo, es divisible por 6\n",
      "13 es primo\n",
      "14 no es primo, es divisible por 2\n",
      "14 no es primo, es divisible por 7\n",
      "15 no es primo, es divisible por 3\n",
      "15 no es primo, es divisible por 5\n",
      "16 no es primo, es divisible por 2\n",
      "16 no es primo, es divisible por 4\n",
      "16 no es primo, es divisible por 8\n",
      "17 es primo\n",
      "18 no es primo, es divisible por 2\n",
      "18 no es primo, es divisible por 3\n",
      "18 no es primo, es divisible por 6\n",
      "18 no es primo, es divisible por 9\n",
      "19 es primo\n",
      "20 no es primo, es divisible por 2\n",
      "20 no es primo, es divisible por 4\n",
      "20 no es primo, es divisible por 5\n",
      "20 no es primo, es divisible por 10\n",
      "21 no es primo, es divisible por 3\n",
      "21 no es primo, es divisible por 7\n",
      "22 no es primo, es divisible por 2\n",
      "22 no es primo, es divisible por 11\n",
      "23 es primo\n",
      "24 no es primo, es divisible por 2\n",
      "24 no es primo, es divisible por 3\n",
      "24 no es primo, es divisible por 4\n",
      "24 no es primo, es divisible por 6\n",
      "24 no es primo, es divisible por 8\n",
      "24 no es primo, es divisible por 12\n",
      "25 no es primo, es divisible por 5\n",
      "26 no es primo, es divisible por 2\n",
      "26 no es primo, es divisible por 13\n",
      "27 no es primo, es divisible por 3\n",
      "27 no es primo, es divisible por 9\n",
      "28 no es primo, es divisible por 2\n",
      "28 no es primo, es divisible por 4\n",
      "28 no es primo, es divisible por 7\n",
      "28 no es primo, es divisible por 14\n",
      "29 es primo\n",
      "30 no es primo, es divisible por 2\n",
      "30 no es primo, es divisible por 3\n",
      "30 no es primo, es divisible por 5\n",
      "30 no es primo, es divisible por 6\n",
      "30 no es primo, es divisible por 10\n",
      "30 no es primo, es divisible por 15\n",
      "31 es primo\n",
      "32 no es primo, es divisible por 2\n",
      "32 no es primo, es divisible por 4\n",
      "32 no es primo, es divisible por 8\n",
      "32 no es primo, es divisible por 16\n",
      "33 no es primo, es divisible por 3\n",
      "33 no es primo, es divisible por 11\n",
      "34 no es primo, es divisible por 2\n",
      "34 no es primo, es divisible por 17\n",
      "35 no es primo, es divisible por 5\n",
      "35 no es primo, es divisible por 7\n",
      "36 no es primo, es divisible por 2\n",
      "36 no es primo, es divisible por 3\n",
      "36 no es primo, es divisible por 4\n",
      "36 no es primo, es divisible por 6\n",
      "36 no es primo, es divisible por 9\n",
      "36 no es primo, es divisible por 12\n",
      "36 no es primo, es divisible por 18\n",
      "37 es primo\n",
      "38 no es primo, es divisible por 2\n",
      "38 no es primo, es divisible por 19\n",
      "39 no es primo, es divisible por 3\n",
      "39 no es primo, es divisible por 13\n",
      "40 no es primo, es divisible por 2\n",
      "40 no es primo, es divisible por 4\n",
      "40 no es primo, es divisible por 5\n",
      "40 no es primo, es divisible por 8\n",
      "40 no es primo, es divisible por 10\n",
      "40 no es primo, es divisible por 20\n",
      "41 es primo\n",
      "42 no es primo, es divisible por 2\n",
      "42 no es primo, es divisible por 3\n",
      "42 no es primo, es divisible por 6\n",
      "42 no es primo, es divisible por 7\n",
      "42 no es primo, es divisible por 14\n",
      "42 no es primo, es divisible por 21\n",
      "43 es primo\n",
      "44 no es primo, es divisible por 2\n",
      "44 no es primo, es divisible por 4\n",
      "44 no es primo, es divisible por 11\n",
      "44 no es primo, es divisible por 22\n",
      "45 no es primo, es divisible por 3\n",
      "45 no es primo, es divisible por 5\n",
      "45 no es primo, es divisible por 9\n",
      "45 no es primo, es divisible por 15\n",
      "46 no es primo, es divisible por 2\n",
      "46 no es primo, es divisible por 23\n",
      "47 es primo\n",
      "48 no es primo, es divisible por 2\n",
      "48 no es primo, es divisible por 3\n",
      "48 no es primo, es divisible por 4\n",
      "48 no es primo, es divisible por 6\n",
      "48 no es primo, es divisible por 8\n",
      "48 no es primo, es divisible por 12\n",
      "48 no es primo, es divisible por 16\n",
      "48 no es primo, es divisible por 24\n",
      "49 no es primo, es divisible por 7\n",
      "50 no es primo, es divisible por 2\n",
      "50 no es primo, es divisible por 5\n",
      "50 no es primo, es divisible por 10\n",
      "50 no es primo, es divisible por 25\n",
      "51 no es primo, es divisible por 3\n",
      "51 no es primo, es divisible por 17\n",
      "52 no es primo, es divisible por 2\n",
      "52 no es primo, es divisible por 4\n",
      "52 no es primo, es divisible por 13\n",
      "52 no es primo, es divisible por 26\n",
      "53 es primo\n",
      "Números primos: [2, 3, 5, 7, 11, 13, 17, 19, 23, 29, 31, 37, 41, 43, 47, 53]\n",
      "La suma de los números primos es: 381\n"
     ]
    }
   ],
   "source": [
    "numero_usuario = int(input(\"Introduce un número entero positivo: \"))\n",
    "\n",
    "lista_primos = []\n",
    "\n",
    "for numero in range(2, numero_usuario+1):\n",
    "    es_primo = True\n",
    "    for n in range(2, numero):  \n",
    "        if numero % n == 0:  \n",
    "            print(numero, \"no es primo, es divisible por\", n)\n",
    "            es_primo = False\n",
    "    \n",
    "    if es_primo:\n",
    "        print(numero, \"es primo\")\n",
    "        lista_primos.append(numero)\n",
    "\n",
    "print(\"Números primos:\", lista_primos)\n",
    "print(f\"La suma de los números primos es: {sum(lista_primos)}\")\n",
    "\n"
   ]
  },
  {
   "cell_type": "markdown",
   "metadata": {},
   "source": [
    "#### 12. Escribe un programa que solicite al usuario un número entero positivo (`n`) y luego imprima un patrón de asteriscos como el siguiente ejemplo para `n = 5`:\n",
    "```\n",
    "*\n",
    "**\n",
    "***\n",
    "****\n",
    "*****\n",
    "```\n",
    "Utiliza un bucle `for` anidado para controlar la cantidad de asteriscos en cada línea."
   ]
  },
  {
   "cell_type": "code",
   "execution_count": 5,
   "metadata": {},
   "outputs": [
    {
     "name": "stdout",
     "output_type": "stream",
     "text": [
      "*\n",
      "**\n",
      "***\n",
      "****\n",
      "*****\n"
     ]
    }
   ],
   "source": [
    "n = int(input(\"Introduce un número entero positivo: \"))\n",
    "\n",
    "for i in range(1, n+1): # n+1 porque el parámetro 'stop' no se incluye\n",
    "    linea = \"\"  \n",
    "\n",
    "    for j in range(i):\n",
    "        linea += \"*\" \n",
    "\n",
    "    print(linea)  \n",
    "\n",
    "\n",
    "             \n"
   ]
  },
  {
   "cell_type": "markdown",
   "metadata": {},
   "source": [
    "#### 13. Dado un texto, utiliza un bucle `for` para contar cuántas veces aparece cada palabra en el texto. Ignora mayúsculas/minúsculas y los signos de puntuación."
   ]
  },
  {
   "cell_type": "code",
   "execution_count": 21,
   "metadata": {},
   "outputs": [
    {
     "name": "stdout",
     "output_type": "stream",
     "text": [
      "{'manzana': 3, 'pera': 5, 'plátano': 2, 'melón': 2, 'kiwi': 1}\n"
     ]
    }
   ],
   "source": [
    "lista_furtas = \"Manzana, MANZANA manzana pera pera, pera pera Pera plátano PLÁTANO, melón Melón, KIWI\"\n",
    "\n",
    "\n",
    "lista_furtas = lista_furtas.lower().replace(\", \", \" \")\n",
    "lista_palabras = lista_furtas.split()\n",
    "\n",
    "dicc_palabras = dict()\n",
    "\n",
    "for palabra in lista_palabras:\n",
    "\n",
    "    if palabra not in dicc_palabras:\n",
    "        dicc_palabras[palabra] = 1\n",
    "    else:\n",
    "        dicc_palabras[palabra] += 1\n",
    "\n",
    "print(dicc_palabras)"
   ]
  },
  {
   "cell_type": "markdown",
   "metadata": {},
   "source": [
    "#### 14. Escribe un programa que solicite al usuario dos números enteros positivos (`inicio` y `fin`, donde `inicio <= fin`) y luego calcule la suma de los números pares y la suma de los números impares en ese rango. Utiliza un bucle `for` para iterar sobre cada número y una estructura `if-else` para clasificar y sumar los números pares e impares."
   ]
  },
  {
   "cell_type": "code",
   "execution_count": 28,
   "metadata": {},
   "outputs": [
    {
     "name": "stdout",
     "output_type": "stream",
     "text": [
      "PARES: [2, 4, 6, 8]\n",
      "Suma de pares:  20\n",
      "IMPARES: [1, 3, 5, 7, 9]\n",
      "Suma de impares:  25\n"
     ]
    }
   ],
   "source": [
    "inicio = int(input(\"Introduce un número entero positivo:\"))\n",
    "fin = int(input(\"Introduce otra número entero positivo:\"))\n",
    "\n",
    "pares = []\n",
    "impares = []\n",
    "\n",
    "while fin < inicio:\n",
    "    print(\"ERROR: el inicio tiene que ser menor que el fin\")\n",
    "    inicio = int(input(\"Introduce un número entero positivo (inicio):\"))\n",
    "    fin = int(input(\"Introduce otra número entero positivo (fin):\"))\n",
    "\n",
    "for numero in range(inicio, fin+1):\n",
    "    if numero % 2 == 0:\n",
    "        pares.append(numero)\n",
    "    else:\n",
    "        impares.append(numero)\n",
    "\n",
    "print(\"PARES:\" , pares)\n",
    "print(\"Suma de pares: \" , sum(pares))\n",
    "print(\"IMPARES:\" , impares)\n",
    "print(\"Suma de impares: \" , sum(impares))\n"
   ]
  },
  {
   "cell_type": "markdown",
   "metadata": {},
   "source": [
    "#### 15. Escribe un programa que solicite al usuario un número entero positivo (`n`) y luego identifique todos los números primos menores o iguales a `n`. Para cada número, imprime si es primo o no usando un bucle `for` y una estructura `if-else` para verificar la condición de primalidad."
   ]
  },
  {
   "cell_type": "code",
   "execution_count": null,
   "metadata": {},
   "outputs": [],
   "source": [
    "n = int(input(\"Introduce un número entero positivo:\"))\n",
    "\n",
    "lista_primos = []\n",
    "\n",
    "for numero in range(2, numero_usuario+1):\n",
    "    es_primo = True\n",
    "    for n in range(2, numero):  \n",
    "        if numero % n == 0:  \n",
    "            print(numero, \"no es primo, es divisible por\", n)\n",
    "            es_primo = False\n",
    "    \n",
    "    if es_primo:\n",
    "        print(numero, \"es primo\")\n",
    "        lista_primos.append(numero)\n",
    "\n",
    "print(\"Números primos:\", lista_primos)\n"
   ]
  },
  {
   "cell_type": "markdown",
   "metadata": {},
   "source": [
    "#### 16.Dada una lista de precios `[100, 200, 300, 400, 500]`, aplica un descuento del 10% a todos los precios mayores a `250`. Imprime la lista actualizada de precios después de aplicar el descuento utilizando un bucle `for`. "
   ]
  },
  {
   "cell_type": "code",
   "execution_count": 33,
   "metadata": {},
   "outputs": [
    {
     "name": "stdout",
     "output_type": "stream",
     "text": [
      "[90.0, 180.0, 300, 400, 500]\n"
     ]
    }
   ],
   "source": [
    "precios = [100,200,300,400,500]\n",
    "precios_dto= []\n",
    "\n",
    "for precio in precios:\n",
    "    if precio <= 250:\n",
    "        precio -= precio*0.1\n",
    "        precios_dto.append(precio)\n",
    "    else:\n",
    "        precios_dto.append(precio)\n",
    "\n",
    "\n",
    "print(precios_dto)"
   ]
  },
  {
   "cell_type": "markdown",
   "metadata": {},
   "source": [
    "#### 17. Dada una lista de calificaciones de estudiantes `[85, 92, 78, 90, 88]`, clasifica a cada estudiante como \"Aprobado\" si la calificación es mayor o igual a `80` y como \"Reprobado\" si es menor a `80`. Imprime el nombre de cada estudiante junto con su estado utilizando un bucle `for` y una estructura `if-else`.\n"
   ]
  },
  {
   "cell_type": "code",
   "execution_count": 35,
   "metadata": {},
   "outputs": [
    {
     "name": "stdout",
     "output_type": "stream",
     "text": [
      "[(85, 'Aprobado'), (92, 'Aprobado'), (78, 'Reprobado'), (90, 'Aprobado'), (88, 'Aprobado')]\n"
     ]
    }
   ],
   "source": [
    "notas = [85,92,78,90,88]\n",
    "resultados = []\n",
    "\n",
    "for nota in notas:\n",
    "    if nota >= 80:\n",
    "        resultados.append(\"Aprobado\")\n",
    "    else:\n",
    "        resultados.append(\"Reprobado\")\n",
    "\n",
    "alumnos = list(zip(notas,resultados))\n",
    "\n",
    "print(alumnos)\n",
    "\n"
   ]
  },
  {
   "cell_type": "markdown",
   "metadata": {},
   "source": [
    "\n",
    "#### 18. Escribe un programa que solicite al usuario dos números enteros positivos (`inicio`, `fin`) y otro número entero positivo (`divisor`). Encuentra el número más grande en el rango desde `inicio` hasta `fin` que sea divisible por `divisor`. Utiliza un bucle `for` y una estructura `if-else` para verificar y mantener el registro del número más grande divisible por el divisor dado.\n"
   ]
  },
  {
   "cell_type": "code",
   "execution_count": 38,
   "metadata": {},
   "outputs": [
    {
     "name": "stdout",
     "output_type": "stream",
     "text": [
      "98\n"
     ]
    }
   ],
   "source": [
    "inicio = int(input(\"Introduce un número entero positivo:\"))\n",
    "fin = int(input(\"Introduce otra número entero positivo:\"))\n",
    "div = int(input(\"Introduce un número entero positivo:\"))\n",
    "\n",
    "num_max = 0\n",
    "\n",
    "for numero in range (inicio, fin+1):\n",
    "    if numero % div == 0:\n",
    "        num_max = numero\n",
    "\n",
    "print(num_max)"
   ]
  }
 ],
 "metadata": {
  "kernelspec": {
   "display_name": "hackio",
   "language": "python",
   "name": "python3"
  },
  "language_info": {
   "codemirror_mode": {
    "name": "ipython",
    "version": 3
   },
   "file_extension": ".py",
   "mimetype": "text/x-python",
   "name": "python",
   "nbconvert_exporter": "python",
   "pygments_lexer": "ipython3",
   "version": "3.12.5"
  }
 },
 "nbformat": 4,
 "nbformat_minor": 2
}
