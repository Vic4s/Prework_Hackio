{
 "cells": [
  {
   "cell_type": "markdown",
   "metadata": {},
   "source": [
    "<div style=\"text-align: center;\">\n",
    "  <img src=\"https://github.com/Hack-io-Data/Imagenes/blob/main/01-LogosHackio/logo_celeste@4x.png?raw=true\" alt=\"logo hack(io)\" />\n",
    "</div>"
   ]
  },
  {
   "cell_type": "markdown",
   "metadata": {},
   "source": [
    "#### 1. Escribe un programa que determine si un número es par o impar.\n",
    "\n"
   ]
  },
  {
   "cell_type": "code",
   "execution_count": 1,
   "metadata": {},
   "outputs": [
    {
     "name": "stdout",
     "output_type": "stream",
     "text": [
      "5 es impar\n"
     ]
    }
   ],
   "source": [
    "x = 5\n",
    "\n",
    "if x % 2 == 0:\n",
    "    print(f\"{x} es par\")\n",
    "else:\n",
    "    print(f\"{x} es impar\")\n",
    "\n"
   ]
  },
  {
   "cell_type": "markdown",
   "metadata": {},
   "source": [
    "#### 2. Genera un programa que nos diga si es de noche, de día o tarde según la hora proporcionada por el usuario."
   ]
  },
  {
   "cell_type": "code",
   "execution_count": 33,
   "metadata": {},
   "outputs": [
    {
     "name": "stdout",
     "output_type": "stream",
     "text": [
      "Hora no válida: Tipo de dato incorrecto. \"'55'\" o \"'hj'\" contiene letras\n",
      "Hora no válida: Valores incorrectos.\n",
      "Hora válida\n",
      "20:00h --> Es por la tarde\n"
     ]
    }
   ],
   "source": [
    "\n",
    "hora_correcta = False\n",
    "hora_usuario = input(\"Escribe la hora acutal en formato 24h: (hh:mm)\")\n",
    "\n",
    "while not hora_correcta:\n",
    "\n",
    "    # Si introduce sólo la hora (uno/dos dígitos)\n",
    "    if len(hora_usuario) <=2 and \":\" not in hora_usuario:\n",
    "        hora_usuario += \":00\"\n",
    "        h = hora_usuario.split(\":\")[0]\n",
    "        if h.isdigit():\n",
    "            h_digito = int(h)\n",
    "            if h_digito >=0 and h_digito <=24:\n",
    "                hora = int(hora_usuario.split(\":\")[0])\n",
    "                minutos = int(hora_usuario.split(\":\")[1])\n",
    "                hora_correcta = True\n",
    "    \n",
    "    if \":\" in hora_usuario:\n",
    "        \n",
    "        h = hora_usuario.split(\":\")[0]\n",
    "        m = hora_usuario.split(\":\")[1]\n",
    "        \n",
    "        if h.isdigit() and m.isdigit():\n",
    "            hora = int(hora_usuario.split(\":\")[0])\n",
    "            minutos = int(hora_usuario.split(\":\")[1])\n",
    "\n",
    "            if hora >= 0 and hora <= 23 and minutos >= 0 and minutos <= 59:\n",
    "                hora_correcta = True\n",
    "            else:\n",
    "                print(\"Valores incorrectos.\")\n",
    "                hora_usuario = input(\"¡AVISO! Introduce una hora válida [00:00 hasta 23:59].\")\n",
    "\n",
    "        else:\n",
    "             print(f\"Tipo de dato incorrecto: \\\"'{h}'\\\" o \\\"'{m}'\\\" contiene letras\")\n",
    "             hora_usuario = input(\"¡AVISO! Introduce sólo NÚMEROS con el formato 00:00 hasta 23:59\")    \n",
    "             \n",
    "    else:\n",
    "        print(\"Formato incorrecto\")\n",
    "        hora_usuario = input(\"¡AVISO! Falta el separador \\\"':'\\\" --> Introduce una hora válida.\")\n",
    "\n",
    "         \n",
    "print (\"Hora válida\")      \n",
    "\n",
    "if hora > 0 and hora < 6:\n",
    "    print(f\"{hora_usuario}h --> Es de noche\")\n",
    "elif hora >= 6 and hora < 12:\n",
    "    print(f\"{hora_usuario}h --> Es de día\")\n",
    "elif hora >= 12 and hora <= 20:\n",
    "    print(f\"{hora_usuario}h --> Es por la tarde\")\n",
    "elif hora >20 and hora <= 24:\n",
    "    print(f\"{hora_usuario}h --> Es de noche\")\n",
    "\n",
    "\n"
   ]
  },
  {
   "cell_type": "markdown",
   "metadata": {},
   "source": [
    "#### 3. Dado un nombre imprime un saludo personalizado."
   ]
  },
  {
   "cell_type": "code",
   "execution_count": 1,
   "metadata": {},
   "outputs": [
    {
     "name": "stdout",
     "output_type": "stream",
     "text": [
      "Hola Juan\n"
     ]
    }
   ],
   "source": [
    "nombre = \"Juan\"\n",
    "print(f\"Hola {nombre}\")"
   ]
  },
  {
   "cell_type": "markdown",
   "metadata": {},
   "source": [
    "#### 4. Escribe un programa que determine qué calificación en texto tiene un alumno en base a su calificación numérica. Las reglas de calificación son: \n",
    "\n",
    "- 0 - 69 insuficiente\n",
    "\n",
    "- 70 - 79 bien\n",
    "\n",
    "- 80 - 89 muy bien\n",
    "\n",
    "- 90 - 100 excelente\n"
   ]
  },
  {
   "cell_type": "code",
   "execution_count": 12,
   "metadata": {},
   "outputs": [
    {
     "name": "stdout",
     "output_type": "stream",
     "text": [
      "Excelente\n"
     ]
    }
   ],
   "source": [
    "nota = 91\n",
    "\n",
    "if nota >= 0 and nota <= 69:\n",
    "    print(\"Insuficiente\")\n",
    "elif nota > 69 and nota <= 79:\n",
    "    print(\"Bien\")\n",
    "elif nota > 79 and nota <= 89:\n",
    "    print(\"Muy bien\")\n",
    "elif nota > 89 and nota <= 100:\n",
    "    print(\"Excelente\")\n",
    "else:\n",
    "    print(\"Nota no válida\")\n",
    "\n"
   ]
  },
  {
   "cell_type": "markdown",
   "metadata": {},
   "source": [
    "#### 5. Escribe un programa que imprima el día de la semana, dado un número del 1 al 7.\n"
   ]
  },
  {
   "cell_type": "code",
   "execution_count": 16,
   "metadata": {},
   "outputs": [
    {
     "name": "stdout",
     "output_type": "stream",
     "text": [
      "Viernes\n"
     ]
    }
   ],
   "source": [
    "dia = 5\n",
    "\n",
    "if dia == 1:\n",
    "    print(\"Lunes\")\n",
    "elif dia == 2:\n",
    "    print(\"Martes\")\n",
    "elif dia == 3:\n",
    "    print(\"Miércoles\")\n",
    "elif dia == 4:\n",
    "    print(\"Jueves\")\n",
    "elif dia == 5:\n",
    "    print(\"Viernes\")\n",
    "elif dia == 6:\n",
    "    print(\"Sábado\")\n",
    "elif dia == 7:\n",
    "    print(\"Domingo\")\n",
    "else:\n",
    "    print(\"Número inválido. Introduce un número entre 1 y 7.\")\n"
   ]
  },
  {
   "cell_type": "markdown",
   "metadata": {},
   "source": [
    "#### 6. Escribe un programa que determine si un número es positivo, negativo o cero."
   ]
  },
  {
   "cell_type": "code",
   "execution_count": 19,
   "metadata": {},
   "outputs": [
    {
     "name": "stdout",
     "output_type": "stream",
     "text": [
      "El número es cero\n"
     ]
    }
   ],
   "source": [
    "\n",
    "numero = 0\n",
    "\n",
    "if numero > 0:\n",
    "    print(\"El número es positivo\")\n",
    "elif numero < 0:\n",
    "    print(\"El número es negativo\")\n",
    "else:\n",
    "    print(\"El número es cero\")\n"
   ]
  },
  {
   "cell_type": "markdown",
   "metadata": {},
   "source": [
    "#### 7. Escribe un programa que determine si una persona puede conducir o no. La edad mínima para conducir es 18 años. \n"
   ]
  },
  {
   "cell_type": "code",
   "execution_count": null,
   "metadata": {},
   "outputs": [],
   "source": [
    "edad = 0\n",
    "\n",
    "if edad >= 18:\n",
    "    print(\"Puedes conducir\")\n",
    "elif edad >= 0 and edad < 18:\n",
    "    print(\"No puedes conducir\")\n",
    "else:\n",
    "    print(\"Introduce una edad válida\")\n"
   ]
  },
  {
   "cell_type": "markdown",
   "metadata": {},
   "source": [
    "#### 8. Escribe un programa que determine si un estudiante aprobó o suspendió un examen."
   ]
  },
  {
   "cell_type": "code",
   "execution_count": 25,
   "metadata": {},
   "outputs": [
    {
     "name": "stdout",
     "output_type": "stream",
     "text": [
      "Aprobado\n"
     ]
    }
   ],
   "source": [
    "n_estudiante = 10\n",
    "\n",
    "if n_estudiante < 0 or n_estudiante > 10:\n",
    "    print(\"Nota no válida\")\n",
    "elif n_estudiante >= 0 and n_estudiante < 5:\n",
    "        print(\"Suspenso\")\n",
    "else:\n",
    "        print(\"Aprobado\")\n"
   ]
  },
  {
   "cell_type": "markdown",
   "metadata": {},
   "source": [
    "#### 9. Escribe un programa que determine si un número es múltiplo de 3 y 5.\n"
   ]
  },
  {
   "cell_type": "code",
   "execution_count": 27,
   "metadata": {},
   "outputs": [
    {
     "name": "stdout",
     "output_type": "stream",
     "text": [
      "El número 17 no es múltiplo de 3 y 5.\n"
     ]
    }
   ],
   "source": [
    "numero = 17\n",
    "\n",
    "if numero % 3 == 0 and numero % 5 == 0:\n",
    "    print(f\"El número {numero} es múltiplo de 3 y 5\")\n",
    "else:\n",
    "    print(f\"El número {numero} no es múltiplo de 3 y 5\")\n"
   ]
  },
  {
   "cell_type": "markdown",
   "metadata": {},
   "source": [
    "#### 10. Escribe un programa que determine si un número es par o impar.\n"
   ]
  },
  {
   "cell_type": "code",
   "execution_count": 29,
   "metadata": {},
   "outputs": [
    {
     "name": "stdout",
     "output_type": "stream",
     "text": [
      "El número 18 es par\n"
     ]
    }
   ],
   "source": [
    "numero = 18\n",
    "\n",
    "if numero % 2 == 0 :\n",
    "    print(f\"El número {numero} es par\")\n",
    "else:\n",
    "    print(f\"El número {numero} es impar\")"
   ]
  }
 ],
 "metadata": {
  "kernelspec": {
   "display_name": "hackio",
   "language": "python",
   "name": "python3"
  },
  "language_info": {
   "codemirror_mode": {
    "name": "ipython",
    "version": 3
   },
   "file_extension": ".py",
   "mimetype": "text/x-python",
   "name": "python",
   "nbconvert_exporter": "python",
   "pygments_lexer": "ipython3",
   "version": "3.12.5"
  }
 },
 "nbformat": 4,
 "nbformat_minor": 2
}
