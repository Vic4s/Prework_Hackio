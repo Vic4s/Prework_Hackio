{
 "cells": [
  {
   "cell_type": "markdown",
   "metadata": {},
   "source": [
    "\n",
    "<div style=\"text-align: center;\">\n",
    "  <img src=\"https://github.com/Hack-io-Data/Imagenes/blob/main/01-LogosHackio/logo_celeste@4x.png?raw=true\" alt=\"esquema\" />\n",
    "</div>"
   ]
  },
  {
   "cell_type": "markdown",
   "metadata": {},
   "source": [
    "#### 1. Escribe una función sin parámetros que imprima el siguiente mensaje \"¡Hola! Bienvenido.\"\n"
   ]
  },
  {
   "cell_type": "code",
   "execution_count": 1,
   "metadata": {},
   "outputs": [
    {
     "name": "stdout",
     "output_type": "stream",
     "text": [
      "¡Hola! Bienvenido.\n"
     ]
    }
   ],
   "source": [
    "def saludar():\n",
    "    print(\"¡Hola! Bienvenido.\")\n",
    "\n",
    "saludar()"
   ]
  },
  {
   "cell_type": "markdown",
   "metadata": {},
   "source": [
    "#### 2. Escribe una función que reciba dos parámetros y devuelva la suma de ambos.\n"
   ]
  },
  {
   "cell_type": "code",
   "execution_count": 5,
   "metadata": {},
   "outputs": [
    {
     "name": "stdout",
     "output_type": "stream",
     "text": [
      "3\n"
     ]
    }
   ],
   "source": [
    "def sumar(n1,n2):\n",
    "    return n1+n2\n",
    "\n",
    "print(sumar(2,1))"
   ]
  },
  {
   "cell_type": "markdown",
   "metadata": {},
   "source": [
    "#### 3. Escribe una función que reciba un número y devuelva True si es par, False si no lo es."
   ]
  },
  {
   "cell_type": "code",
   "execution_count": 7,
   "metadata": {},
   "outputs": [
    {
     "name": "stdout",
     "output_type": "stream",
     "text": [
      "False\n",
      "True\n"
     ]
    }
   ],
   "source": [
    "def esPar(n):\n",
    "    if n % 2 == 0:\n",
    "        return True\n",
    "    else:\n",
    "        return False\n",
    "    \n",
    "print(esPar(5))\n",
    "print(esPar(6))"
   ]
  },
  {
   "cell_type": "markdown",
   "metadata": {},
   "source": [
    "#### 4. Escribe un función que devuelva un saludo personalizado a una persona dado su nombre. \n"
   ]
  },
  {
   "cell_type": "code",
   "execution_count": 11,
   "metadata": {},
   "outputs": [
    {
     "name": "stdout",
     "output_type": "stream",
     "text": [
      "Hola Jose\n"
     ]
    }
   ],
   "source": [
    "def saludo(nombre):\n",
    "    print(f\"Hola {nombre}\")\n",
    "    \n",
    "saludo(\"Jose\")"
   ]
  },
  {
   "cell_type": "markdown",
   "metadata": {},
   "source": [
    "#### 5. Escribe una función que sume todos los números que reciba como argumento. La función debe recibir una cantidad variable de argumentos y devolver la suma de todos ellos."
   ]
  },
  {
   "cell_type": "code",
   "execution_count": 16,
   "metadata": {},
   "outputs": [
    {
     "name": "stdout",
     "output_type": "stream",
     "text": [
      "4061.7\n"
     ]
    }
   ],
   "source": [
    "def suma(*args):\n",
    "    numeros = args\n",
    "    suma = sum(numeros)\n",
    "    print(suma)\n",
    "\n",
    "suma(1,2,25)"
   ]
  },
  {
   "cell_type": "markdown",
   "metadata": {},
   "source": [
    "#### 6. Escribe una función que cuente las letras de una palabra y devuelva un diccionario con la cantidad de veces que se repite cada letra \n"
   ]
  },
  {
   "cell_type": "code",
   "execution_count": 18,
   "metadata": {},
   "outputs": [
    {
     "name": "stdout",
     "output_type": "stream",
     "text": [
      "{'M': 1, 'a': 3, 'n': 2, 'z': 1}\n"
     ]
    }
   ],
   "source": [
    "def cuentaLetras(palabra):\n",
    "    \n",
    "    letras = list(palabra)\n",
    "    dicc = dict()\n",
    "\n",
    "    for letra in letras:\n",
    "        if letra not in dicc:\n",
    "            dicc[letra] = 1\n",
    "        else:\n",
    "            dicc[letra] += 1\n",
    "    return dicc\n",
    "\n",
    "print(cuentaLetras(\"Manzana\"))"
   ]
  },
  {
   "cell_type": "markdown",
   "metadata": {},
   "source": [
    "#### 7. Escribe un función recursiva para calcular el factorial de un número entero no negativo."
   ]
  },
  {
   "cell_type": "code",
   "execution_count": 27,
   "metadata": {},
   "outputs": [
    {
     "name": "stdout",
     "output_type": "stream",
     "text": [
      "120\n"
     ]
    }
   ],
   "source": [
    "def factorial(n):\n",
    "    if isinstance(n, int) and n >= 0:\n",
    "        if n == 0:\n",
    "            return 1\n",
    "        else:\n",
    "            return n * factorial(n - 1)\n",
    "    else:\n",
    "        return \"Debes introducir un número entero positivo \"\n",
    "\n",
    "print(factorial(5))  "
   ]
  },
  {
   "cell_type": "markdown",
   "metadata": {},
   "source": [
    "#### 8. Escribe una función que tome dos parámetros: `figura` (una cadena que puede ser `\"rectangulo\"`, `\"circulo\"` o `\"triangulo\"`) y `datos` (una tupla con los datos necesarios para calcular el área de la figura). "
   ]
  },
  {
   "cell_type": "code",
   "execution_count": 38,
   "metadata": {},
   "outputs": [
    {
     "name": "stdout",
     "output_type": "stream",
     "text": [
      "15.00\n",
      "153.94\n",
      "56.00\n"
     ]
    }
   ],
   "source": [
    "import math\n",
    "\n",
    "def area(figura, datos):\n",
    "\n",
    "    if figura == \"rectangulo\":\n",
    "        base = datos[0]\n",
    "        altura = datos[1]\n",
    "        result = base * altura\n",
    "        return f\"{result:.2f}\"\n",
    "    \n",
    "    elif figura == \"circulo\":\n",
    "        radio = datos[0] \n",
    "        result = math.pi * radio ** 2\n",
    "        return f\"{result:.2f}\"\n",
    "    \n",
    "    elif figura == \"triangulo\":\n",
    "        base = datos[0]\n",
    "        altura = datos[1]\n",
    "        result = base * altura\n",
    "        return f\"{result:.2f}\"\n",
    "    \n",
    "    else:\n",
    "        return \"Figura no válida. Debe ser 'rectangulo', 'circulo' o 'triangulo'.\"\n",
    "    \n",
    "print(area(\"rectangulo\", (3,5)))\n",
    "print(area(\"circulo\", (7,0)))\n",
    "print(area(\"triangulo\", (7,8)))"
   ]
  },
  {
   "cell_type": "markdown",
   "metadata": {},
   "source": [
    "#### 9. Escribe una función que tome una lista de números como parámetro y devuelva el número más grande de la lista. No utilices la función `max()` de Python en tu solución."
   ]
  },
  {
   "cell_type": "code",
   "execution_count": 3,
   "metadata": {},
   "outputs": [
    {
     "name": "stdout",
     "output_type": "stream",
     "text": [
      "72\n"
     ]
    }
   ],
   "source": [
    "def numMax(lista):\n",
    "    lista.sort()\n",
    "    return lista[-1]\n",
    "\n",
    "listaNumeros = [1,72,8,47,15]\n",
    "print(numMax(listaNumeros))"
   ]
  },
  {
   "cell_type": "markdown",
   "metadata": {},
   "source": [
    "#### 10. Escribe una función que tome una cadena como parámetro un texto y devuelva `True` si la cadena es un palíndromo (se lee igual de izquierda a derecha que de derecha a izquierda), y `False` en caso contrario. Ignora los espacios y considera mayúsculas y minúsculas de manera insensible.\n"
   ]
  },
  {
   "cell_type": "code",
   "execution_count": 26,
   "metadata": {},
   "outputs": [
    {
     "name": "stdout",
     "output_type": "stream",
     "text": [
      "True\n"
     ]
    }
   ],
   "source": [
    "def palindromo(cad):\n",
    "    cad = cad.lower().replace(\" \", \"\")\n",
    "    cadena = list(cad)\n",
    "    cadena_inv = cadena.copy()\n",
    "    cadena_inv.reverse()\n",
    "\n",
    "    if cadena == cadena_inv:\n",
    "        return True\n",
    "    else:\n",
    "        return False\n",
    "    \n",
    "print(palindromo(\" Sometemos \"))\n",
    "        \n"
   ]
  },
  {
   "cell_type": "markdown",
   "metadata": {},
   "source": [
    "#### 11. Escribe una función que tome una cadena como parámetro y devuelva dos valores: la cantidad de vocales y la cantidad de consonantes presentes en la cadena. Ignora los espacios y considera mayúsculas y minúsculas de manera insensible.\n"
   ]
  },
  {
   "cell_type": "code",
   "execution_count": 40,
   "metadata": {},
   "outputs": [
    {
     "name": "stdout",
     "output_type": "stream",
     "text": [
      "{'Vocales': 33, 'Consonantes': 40}\n"
     ]
    }
   ],
   "source": [
    "def contarVocales(cadena):\n",
    "\n",
    "    cadena = cadena.lower().replace(\" \", \"\")\n",
    "    \n",
    "    special_chars = [';', ':', '!', \"*\"]\n",
    "    for c in cadena:\n",
    "        if c in special_chars:\n",
    "            cadena = cadena.replace(c, \"\")\n",
    "    \n",
    "    vocales = []\n",
    "    consonantes = []\n",
    "\n",
    "    for char in cadena:\n",
    "        if char == \"a\" or char == \"e\" or char == \"i\" or char == \"o\" or char == \"u\":\n",
    "            vocales.append(char)\n",
    "        else:\n",
    "            consonantes.append(char)\n",
    "\n",
    "    dicc = {\"Vocales\": len(vocales),\n",
    "        \"Consonantes\": len(consonantes)}\n",
    "    \n",
    "    return dicc\n",
    "\n",
    "dicc = contarVocales(\"Las *!:;funciones son bloques de código reutilizables que realizan una tarea específica.\")\n",
    "\n",
    "print (dicc)"
   ]
  }
 ],
 "metadata": {
  "kernelspec": {
   "display_name": "hackio",
   "language": "python",
   "name": "python3"
  },
  "language_info": {
   "codemirror_mode": {
    "name": "ipython",
    "version": 3
   },
   "file_extension": ".py",
   "mimetype": "text/x-python",
   "name": "python",
   "nbconvert_exporter": "python",
   "pygments_lexer": "ipython3",
   "version": "3.12.5"
  }
 },
 "nbformat": 4,
 "nbformat_minor": 2
}
